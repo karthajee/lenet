{
  "nbformat": 4,
  "nbformat_minor": 0,
  "metadata": {
    "colab": {
      "name": "Stat_Ch13_LeNet.ipynb",
      "provenance": [],
      "authorship_tag": "ABX9TyOTGhBhbXuPwlTjn1SflF1Q",
      "include_colab_link": true
    },
    "kernelspec": {
      "name": "python3",
      "display_name": "Python 3"
    },
    "accelerator": "GPU"
  },
  "cells": [
    {
      "cell_type": "markdown",
      "metadata": {
        "id": "view-in-github",
        "colab_type": "text"
      },
      "source": [
        "<a href=\"https://colab.research.google.com/github/karthajee/lenet/blob/master/Stat_Ch13_LeNet.ipynb\" target=\"_parent\"><img src=\"https://colab.research.google.com/assets/colab-badge.svg\" alt=\"Open In Colab\"/></a>"
      ]
    },
    {
      "cell_type": "code",
      "metadata": {
        "id": "A2WIgQO5DDIH",
        "colab_type": "code",
        "colab": {
          "base_uri": "https://localhost:8080/",
          "height": 122
        },
        "outputId": "ceb61f6b-61c1-426f-fdce-81b095724f41"
      },
      "source": [
        "#Mount the Google Drive\n",
        "from google.colab import drive\n",
        "drive.mount('/content/gdrive')"
      ],
      "execution_count": null,
      "outputs": [
        {
          "output_type": "stream",
          "text": [
            "Go to this URL in a browser: https://accounts.google.com/o/oauth2/auth?client_id=947318989803-6bn6qk8qdgf4n4g3pfee6491hc0brc4i.apps.googleusercontent.com&redirect_uri=urn%3aietf%3awg%3aoauth%3a2.0%3aoob&response_type=code&scope=email%20https%3a%2f%2fwww.googleapis.com%2fauth%2fdocs.test%20https%3a%2f%2fwww.googleapis.com%2fauth%2fdrive%20https%3a%2f%2fwww.googleapis.com%2fauth%2fdrive.photos.readonly%20https%3a%2f%2fwww.googleapis.com%2fauth%2fpeopleapi.readonly\n",
            "\n",
            "Enter your authorization code:\n",
            "··········\n",
            "Mounted at /content/gdrive\n"
          ],
          "name": "stdout"
        }
      ]
    },
    {
      "cell_type": "code",
      "metadata": {
        "id": "mS1I655YGi_z",
        "colab_type": "code",
        "colab": {}
      },
      "source": [
        "#IMPORTS FOR DATASET\n",
        "from sklearn import datasets\n",
        "\n",
        "#IMPORTS FOR KERAS\n",
        "#Layers\n",
        "from tensorflow.keras.models import Sequential\n",
        "from tensorflow.keras.layers import Conv2D\n",
        "from tensorflow.keras.layers import Activation\n",
        "from tensorflow.keras.layers import MaxPool2D\n",
        "from tensorflow.keras.layers import Flatten\n",
        "from tensorflow.keras.layers import Dense\n",
        "\n",
        "#Optimizers\n",
        "from tensorflow.keras.optimizers import SGD\n",
        "\n",
        "#Other\n",
        "import tensorflow.keras.backend as K\n",
        "\n",
        "#IMPORTS FOR CONVENIENCE FUNCTIONS\n",
        "from sklearn.model_selection import train_test_split\n",
        "\n",
        "#IMPORTS FOR EVALUATION\n",
        "from sklearn.metrics import classification_report\n",
        "import matplotlib.pyplot as plt\n",
        "\n",
        "#IMPORTS - OTHER\n",
        "import numpy as np\n",
        "from sklearn.preprocessing import LabelBinarizer"
      ],
      "execution_count": null,
      "outputs": []
    },
    {
      "cell_type": "code",
      "metadata": {
        "id": "1ZcZ4s09ZLBU",
        "colab_type": "code",
        "colab": {}
      },
      "source": [
        "#Download the MNIST dataset\n",
        "dataset = datasets.fetch_openml('mnist_784')"
      ],
      "execution_count": null,
      "outputs": []
    },
    {
      "cell_type": "code",
      "metadata": {
        "id": "Kk_u1rsOHFFm",
        "colab_type": "code",
        "colab": {}
      },
      "source": [
        "data = dataset.data\n",
        "targets = dataset.target\n",
        "\n",
        "#Convert uint8 to floats between 0-1\n",
        "data = data.astype('float') / 255.0\n",
        "targets = targets.astype('int')\n",
        "\n",
        "#Reshape the data as per \"channels-...\"\" ordering\n",
        "if K.image_data_format() == \"channels-first\":\n",
        "  data = data.reshape(data.shape[0], 1, 28, 28)\n",
        "else:\n",
        "  data = data.reshape(data.shape[0], 28, 28, 1)\n",
        "\n",
        "\n",
        "#Split dataset into train and test sets\n",
        "(trainX, testX, trainY, testY) = train_test_split(data, targets, test_size=0.25, random_state=42)\n",
        "\n",
        "\n",
        "#Convert the target labels into one-hot encoding vectors\n",
        "lb = LabelBinarizer()\n",
        "trainY = lb.fit_transform(trainY)\n",
        "testY = lb.transform(testY)"
      ],
      "execution_count": null,
      "outputs": []
    },
    {
      "cell_type": "code",
      "metadata": {
        "id": "y_Wds2KpJwPw",
        "colab_type": "code",
        "colab": {
          "base_uri": "https://localhost:8080/",
          "height": 561
        },
        "outputId": "af62e63b-fd61-4ee4-ae91-ad9706a690af"
      },
      "source": [
        "#Initialize a Keras sequential model\n",
        "model = Sequential()\n",
        "\n",
        "#Obtain the input shape\n",
        "input_shape = (data.shape[1], data.shape[2], data.shape[3])\n",
        "\n",
        "#Add LeNet layers sequentially\n",
        "print(\"[INFO] Building the model...\")\n",
        "model.add(Conv2D(filters=20, kernel_size=(5,5), padding='same', strides=(1,1), input_shape = input_shape))\n",
        "model.add(Activation(\"relu\"))\n",
        "model.add(MaxPool2D(pool_size=(2,2), strides=(2,2)))\n",
        "model.add(Conv2D(filters=50, kernel_size=(5,5), padding='same',strides=(1,1)))\n",
        "model.add(Activation(\"relu\"))\n",
        "model.add(MaxPool2D(pool_size=(2,2), strides=(2,2)))\n",
        "model.add(Flatten())\n",
        "model.add(Dense(500))\n",
        "model.add(Activation(\"relu\"))\n",
        "model.add(Dense(10))\n",
        "model.add(Activation(\"softmax\"))\n",
        "\n",
        "#Print the LeNet model summary\n",
        "print(\"[INFO] Summarizing the model...\")\n",
        "model.summary()"
      ],
      "execution_count": null,
      "outputs": [
        {
          "output_type": "stream",
          "text": [
            "[INFO] Building the model...\n",
            "[INFO] Summarizing the model...\n",
            "Model: \"sequential\"\n",
            "_________________________________________________________________\n",
            "Layer (type)                 Output Shape              Param #   \n",
            "=================================================================\n",
            "conv2d (Conv2D)              (None, 28, 28, 20)        520       \n",
            "_________________________________________________________________\n",
            "activation (Activation)      (None, 28, 28, 20)        0         \n",
            "_________________________________________________________________\n",
            "max_pooling2d (MaxPooling2D) (None, 14, 14, 20)        0         \n",
            "_________________________________________________________________\n",
            "conv2d_1 (Conv2D)            (None, 14, 14, 50)        25050     \n",
            "_________________________________________________________________\n",
            "activation_1 (Activation)    (None, 14, 14, 50)        0         \n",
            "_________________________________________________________________\n",
            "max_pooling2d_1 (MaxPooling2 (None, 7, 7, 50)          0         \n",
            "_________________________________________________________________\n",
            "flatten (Flatten)            (None, 2450)              0         \n",
            "_________________________________________________________________\n",
            "dense (Dense)                (None, 500)               1225500   \n",
            "_________________________________________________________________\n",
            "activation_2 (Activation)    (None, 500)               0         \n",
            "_________________________________________________________________\n",
            "dense_1 (Dense)              (None, 10)                5010      \n",
            "_________________________________________________________________\n",
            "activation_3 (Activation)    (None, 10)                0         \n",
            "=================================================================\n",
            "Total params: 1,256,080\n",
            "Trainable params: 1,256,080\n",
            "Non-trainable params: 0\n",
            "_________________________________________________________________\n"
          ],
          "name": "stdout"
        }
      ]
    },
    {
      "cell_type": "code",
      "metadata": {
        "id": "MpeGGDddPDDV",
        "colab_type": "code",
        "colab": {
          "base_uri": "https://localhost:8080/",
          "height": 751
        },
        "outputId": "88a18d1c-1b6c-4afd-e63f-ba6f41d0c78e"
      },
      "source": [
        "#Initialize the optimizer\n",
        "sgd = SGD(lr=0.01)\n",
        "\n",
        "#Compile the model\n",
        "print(\"[INFO] Compiling the model...\")\n",
        "model.compile(loss='categorical_crossentropy', optimizer=sgd, metrics=['accuracy'])\n",
        "\n",
        "#Fit the model to input data\n",
        "print(\"[INFO] Training the network...\")\n",
        "H = model.fit(trainX, trainY, validation_data=(testX, testY), epochs=20, \n",
        "              batch_size=64, verbose =1)"
      ],
      "execution_count": null,
      "outputs": [
        {
          "output_type": "stream",
          "text": [
            "[INFO] Compiling the model...\n",
            "[INFO] Training the network...\n",
            "Epoch 1/20\n",
            "821/821 [==============================] - 4s 4ms/step - loss: 0.6682 - accuracy: 0.8172 - val_loss: 0.2659 - val_accuracy: 0.9189\n",
            "Epoch 2/20\n",
            "821/821 [==============================] - 3s 4ms/step - loss: 0.1704 - accuracy: 0.9494 - val_loss: 0.1631 - val_accuracy: 0.9506\n",
            "Epoch 3/20\n",
            "821/821 [==============================] - 3s 4ms/step - loss: 0.1157 - accuracy: 0.9660 - val_loss: 0.1830 - val_accuracy: 0.9414\n",
            "Epoch 4/20\n",
            "821/821 [==============================] - 3s 4ms/step - loss: 0.0900 - accuracy: 0.9731 - val_loss: 0.0934 - val_accuracy: 0.9718\n",
            "Epoch 5/20\n",
            "821/821 [==============================] - 3s 4ms/step - loss: 0.0752 - accuracy: 0.9775 - val_loss: 0.1092 - val_accuracy: 0.9669\n",
            "Epoch 6/20\n",
            "821/821 [==============================] - 3s 4ms/step - loss: 0.0656 - accuracy: 0.9804 - val_loss: 0.0722 - val_accuracy: 0.9779\n",
            "Epoch 7/20\n",
            "821/821 [==============================] - 3s 4ms/step - loss: 0.0582 - accuracy: 0.9826 - val_loss: 0.0787 - val_accuracy: 0.9759\n",
            "Epoch 8/20\n",
            "821/821 [==============================] - 3s 4ms/step - loss: 0.0521 - accuracy: 0.9846 - val_loss: 0.0969 - val_accuracy: 0.9699\n",
            "Epoch 9/20\n",
            "821/821 [==============================] - 3s 4ms/step - loss: 0.0480 - accuracy: 0.9851 - val_loss: 0.0628 - val_accuracy: 0.9801\n",
            "Epoch 10/20\n",
            "821/821 [==============================] - 3s 4ms/step - loss: 0.0439 - accuracy: 0.9866 - val_loss: 0.0579 - val_accuracy: 0.9825\n",
            "Epoch 11/20\n",
            "821/821 [==============================] - 3s 4ms/step - loss: 0.0402 - accuracy: 0.9877 - val_loss: 0.0562 - val_accuracy: 0.9820\n",
            "Epoch 12/20\n",
            "821/821 [==============================] - 3s 4ms/step - loss: 0.0374 - accuracy: 0.9885 - val_loss: 0.0533 - val_accuracy: 0.9823\n",
            "Epoch 13/20\n",
            "821/821 [==============================] - 3s 4ms/step - loss: 0.0349 - accuracy: 0.9899 - val_loss: 0.0507 - val_accuracy: 0.9837\n",
            "Epoch 14/20\n",
            "821/821 [==============================] - 3s 4ms/step - loss: 0.0332 - accuracy: 0.9899 - val_loss: 0.0455 - val_accuracy: 0.9859\n",
            "Epoch 15/20\n",
            "821/821 [==============================] - 3s 4ms/step - loss: 0.0310 - accuracy: 0.9910 - val_loss: 0.0479 - val_accuracy: 0.9845\n",
            "Epoch 16/20\n",
            "821/821 [==============================] - 3s 4ms/step - loss: 0.0292 - accuracy: 0.9910 - val_loss: 0.0442 - val_accuracy: 0.9864\n",
            "Epoch 17/20\n",
            "821/821 [==============================] - 3s 4ms/step - loss: 0.0273 - accuracy: 0.9917 - val_loss: 0.0424 - val_accuracy: 0.9857\n",
            "Epoch 18/20\n",
            "821/821 [==============================] - 3s 4ms/step - loss: 0.0259 - accuracy: 0.9919 - val_loss: 0.0479 - val_accuracy: 0.9833\n",
            "Epoch 19/20\n",
            "821/821 [==============================] - 3s 4ms/step - loss: 0.0247 - accuracy: 0.9926 - val_loss: 0.0402 - val_accuracy: 0.9870\n",
            "Epoch 20/20\n",
            "821/821 [==============================] - 3s 4ms/step - loss: 0.0235 - accuracy: 0.9930 - val_loss: 0.0446 - val_accuracy: 0.9860\n"
          ],
          "name": "stdout"
        }
      ]
    },
    {
      "cell_type": "code",
      "metadata": {
        "id": "1fNnO1BwPf8k",
        "colab_type": "code",
        "colab": {
          "base_uri": "https://localhost:8080/",
          "height": 323
        },
        "outputId": "7ebdb03f-5699-4b1c-f943-667972b1e7a5"
      },
      "source": [
        "#Make predictions on the test data\n",
        "print(\"[INFO] Evaluating the network...\")\n",
        "predictions = model.predict(testX, batch_size=64)\n",
        "\n",
        "\n",
        "print(classification_report(y_true=np.argmax(testY, axis=1), y_pred=np.argmax(predictions, axis=1), \n",
        "                            target_names=[str(x) for x in lb.classes_]))"
      ],
      "execution_count": null,
      "outputs": [
        {
          "output_type": "stream",
          "text": [
            "[INFO] Evaluating the network...\n",
            "              precision    recall  f1-score   support\n",
            "\n",
            "           0       0.99      0.99      0.99      1714\n",
            "           1       1.00      0.99      0.99      1977\n",
            "           2       0.98      0.99      0.99      1761\n",
            "           3       0.98      0.99      0.98      1806\n",
            "           4       0.98      0.99      0.99      1587\n",
            "           5       0.98      0.99      0.99      1607\n",
            "           6       1.00      0.99      0.99      1761\n",
            "           7       0.99      0.98      0.99      1878\n",
            "           8       0.96      0.99      0.97      1657\n",
            "           9       0.98      0.97      0.98      1752\n",
            "\n",
            "    accuracy                           0.99     17500\n",
            "   macro avg       0.99      0.99      0.99     17500\n",
            "weighted avg       0.99      0.99      0.99     17500\n",
            "\n"
          ],
          "name": "stdout"
        }
      ]
    },
    {
      "cell_type": "code",
      "metadata": {
        "id": "OLbh2KAjYEv2",
        "colab_type": "code",
        "colab": {
          "base_uri": "https://localhost:8080/",
          "height": 354
        },
        "outputId": "357b7e50-7f41-46fc-d279-f80fc4bf403d"
      },
      "source": [
        "#Print the training and validation loss + accuracy\n",
        "plt.style.use('ggplot')\n",
        "plt.figure(figsize=(5,5))\n",
        "plt.plot(np.arange(0, 20), H.history[\"accuracy\"], label=\"train_accuracy\")\n",
        "plt.plot(np.arange(0, 20), H.history[\"val_accuracy\"], label=\"val_accuracy\")\n",
        "plt.plot(np.arange(0, 20), H.history[\"loss\"], label=\"train_loss\")\n",
        "plt.plot(np.arange(0, 20), H.history[\"val_loss\"], label=\"val_loss\")\n",
        "plt.legend()\n",
        "plt.title(\"Accuracy/Loss vs. Epochs\")\n",
        "plt.ylabel(\"Accuracy/Loss\")\n",
        "plt.xlabel(\"Epoch Number\")\n",
        "plt.show()"
      ],
      "execution_count": null,
      "outputs": [
        {
          "output_type": "display_data",
          "data": {
            "image/png": "[encoded data removed]",
            "text/plain": [
              "<Figure size 360x360 with 1 Axes>"
            ]
          },
          "metadata": {
            "tags": []
          }
        }
      ]
    }
  ]
}